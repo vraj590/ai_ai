{
 "cells": [
  {
   "cell_type": "code",
   "execution_count": 2,
   "id": "e16ea6b2-c760-49de-b03e-be8f1408f4e1",
   "metadata": {},
   "outputs": [
    {
     "name": "stdout",
     "output_type": "stream",
     "text": [
      "['A', 'C', 'F']\n"
     ]
    }
   ],
   "source": [
    "import heapq\n",
    "\n",
    "def best_first_search(graph, start, goal, heuristic):\n",
    "    queue, visited = [(heuristic[start], start)], {}\n",
    "    while queue:\n",
    "        _, current = heapq.heappop(queue)\n",
    "        if current == goal:\n",
    "            path = []\n",
    "            while current:\n",
    "                path.append(current)\n",
    "                current = visited.get(current)\n",
    "            return path[::-1]\n",
    "        for neighbor in graph.get(current, []):\n",
    "            if neighbor not in visited:\n",
    "                visited[neighbor] = current\n",
    "                heapq.heappush(queue, (heuristic[neighbor], neighbor))\n",
    "    return None\n",
    "\n",
    "# Example graph and heuristic\n",
    "graph = {'A': ['B', 'C'], 'B': ['D', 'E'], 'C': ['F'], 'D': [], 'E': ['F'], 'F': []}\n",
    "heuristic = {'A': 6, 'B': 4, 'C': 2, 'D': 4, 'E': 1, 'F': 0}\n",
    "# Example usage\n",
    "path = best_first_search(graph, 'A', 'F', heuristic)\n",
    "print(path)  # Output should be ['A', 'C', 'F']\n"
   ]
  },
  {
   "cell_type": "code",
   "execution_count": 21,
   "id": "71f847b2-5bb2-4f3a-a8b8-ab55360905d5",
   "metadata": {},
   "outputs": [
    {
     "name": "stdout",
     "output_type": "stream",
     "text": [
      "{'A': 'green', 'S': 'blue', 'Q': 'green', 'T': 'blue'}\n"
     ]
    }
   ],
   "source": [
    "from constraint import Problem\n",
    "\n",
    "# Define the map regions and their neighbors\n",
    "regions = ['A', 'T', 'S', 'Q']\n",
    "neighbors = {\n",
    "'A' : ['T','S'], 'T' : ['A'], 'S' : ['A', 'Q'], 'Q' : ['S'] \n",
    "}\n",
    "\n",
    "# Initialize the problem and add variables\n",
    "problem = Problem()\n",
    "problem.addVariables(regions, ['red', 'blue', 'green'])\n",
    "\n",
    "# Add constraints to ensure neighboring regions have different colors\n",
    "for region, adjacent in neighbors.items():\n",
    "    for neighbor in adjacent:\n",
    "        problem.addConstraint(lambda a, b: a != b, (region, neighbor))\n",
    "\n",
    "# Find and print a single solution\n",
    "solution = problem.getSolution()\n",
    "print(solution)\n"
   ]
  },
  {
   "cell_type": "code",
   "execution_count": 7,
   "id": "08dccf0d-1fd5-4e2a-9105-4dd516fd7eb0",
   "metadata": {},
   "outputs": [
    {
     "name": "stdout",
     "output_type": "stream",
     "text": [
      "Move disk 1 from A to C\n",
      "Move disk 2 from A to B\n",
      "Move disk 1 from C to B\n",
      "Move disk 3 from A to C\n",
      "Move disk 1 from B to A\n",
      "Move disk 2 from B to C\n",
      "Move disk 1 from A to C\n"
     ]
    }
   ],
   "source": [
    "def tower_of_hanoi(n, source, target, auxiliary):\n",
    "    if n == 1:\n",
    "        print(f\"Move disk 1 from {source} to {target}\")\n",
    "        return\n",
    "    tower_of_hanoi(n-1, source, auxiliary, target)\n",
    "    print(f\"Move disk {n} from {source} to {target}\")\n",
    "    tower_of_hanoi(n-1, auxiliary, target, source)\n",
    "\n",
    "def main():\n",
    "    n = 3  # Number of disks\n",
    "    tower_of_hanoi(n, 'A', 'C', 'B')\n",
    "\n",
    "if __name__ == \"__main__\":\n",
    "    main()\n"
   ]
  },
  {
   "cell_type": "code",
   "execution_count": 16,
   "id": "9e3c55bb-3247-46f9-a60e-4306cff0437b",
   "metadata": {},
   "outputs": [
    {
     "name": "stdin",
     "output_type": "stream",
     "text": [
      " 3\n"
     ]
    },
    {
     "name": "stdout",
     "output_type": "stream",
     "text": [
      " move disk 1 from A to C\n",
      "move disk 2 from A to B\n",
      " move disk 1 from C to B\n",
      "move disk 3 from A to C\n",
      " move disk 1 from B to A\n",
      "move disk 2 from B to C\n",
      " move disk 1 from A to C\n"
     ]
    }
   ],
   "source": [
    "def toh(n, source, target, auxiliary):\n",
    "    if n == 1:\n",
    "        print(f\" move disk 1 from {source} to {target}\")\n",
    "        return\n",
    "    toh(n-1, source, auxiliary, target)\n",
    "    print(f\"move disk {n} from {source} to {target}\")\n",
    "    toh(n-1, auxiliary, target, source)\n",
    "\n",
    "def main():\n",
    "    n=int(input())\n",
    "    toh(n, 'A', 'C', 'B')\n",
    "if __name__ == '__main__':\n",
    "    main()"
   ]
  },
  {
   "cell_type": "code",
   "execution_count": 22,
   "id": "6c45543d-ff88-455f-bb3b-1f8c42c6d23c",
   "metadata": {},
   "outputs": [
    {
     "name": "stdout",
     "output_type": "stream",
     "text": [
      "The best move is index: 7\n"
     ]
    }
   ],
   "source": [
    "def evaluate(board):\n",
    "    lines = [(0, 1, 2), (3, 4, 5), (6, 7, 8), (0, 3, 6), (1, 4, 7), (2, 5, 8), (0, 4, 8), (2, 4, 6)]\n",
    "    for a, b, c in lines:\n",
    "        if board[a] == board[b] == board[c] and board[a] is not None:\n",
    "            return ('X' == board[a]) - ('O' == board[a])\n",
    "    return 0\n",
    "\n",
    "def minimax(board, is_max):\n",
    "    result = evaluate(board)\n",
    "    if result != 0 or None not in board:\n",
    "        return result\n",
    "    scores = [minimax(board[:i] + [is_max*'X'+(not is_max)*'O'] + board[i+1:], not is_max) \n",
    "              for i in range(9) if board[i] is None]\n",
    "    return max(scores) if is_max else min(scores)\n",
    "\n",
    "def best_move(board):\n",
    "    return max((minimax(board[:i] + ['X'] + board[i+1:], False), i) for i in range(9) if board[i] is None)[1]\n",
    "\n",
    "# Example usage\n",
    "board = [None] * 9  # Initial empty board\n",
    "board[0] = 'X'; board[4] = 'X'; board[8] = 'O'; board[6] = 'O'\n",
    "print(\"The best move is index:\", best_move(board))\n"
   ]
  },
  {
   "cell_type": "code",
   "execution_count": 26,
   "id": "79eec8e7-f1b7-41a2-a578-6df07803ec41",
   "metadata": {},
   "outputs": [
    {
     "name": "stdout",
     "output_type": "stream",
     "text": [
      "DFS Traversal:\n",
      "A B E F C G H D I J \n",
      "BFS Traversal:\n",
      "A B C D E F G H I J "
     ]
    }
   ],
   "source": [
    "# Tree Structure using a dictionary\n",
    "graph = {\n",
    "    'A': ['B', 'C', 'D'],\n",
    "    'B': ['E', 'F'],\n",
    "    'C': ['G', 'H'],\n",
    "    'D': ['I', 'J'],\n",
    "    'E': [],\n",
    "    'F': [],\n",
    "    'G': [],\n",
    "    'H': [],\n",
    "    'I': [],\n",
    "    'J': []\n",
    "}\n",
    "\n",
    "# Depth-First Search (DFS)\n",
    "def dfs(graph, node, visited=None):\n",
    "    if visited is None:\n",
    "        visited = set()\n",
    "    visited.add(node)\n",
    "    print(node, end=' ')\n",
    "    for neighbor in graph[node]:\n",
    "        if neighbor not in visited:\n",
    "            dfs(graph, neighbor, visited)\n",
    "\n",
    "# Breadth-First Search (BFS)\n",
    "def bfs(graph, start):\n",
    "    visited = set()\n",
    "    queue = [start]\n",
    "    while queue:\n",
    "        node = queue.pop(0)\n",
    "        if node not in visited:\n",
    "            visited.add(node)\n",
    "            print(node, end=' ')\n",
    "            queue.extend(n for n in graph[node] if n not in visited)\n",
    "\n",
    "# Example usage\n",
    "print(\"DFS Traversal:\")\n",
    "dfs(graph, 'A')\n",
    "print(\"\\nBFS Traversal:\")\n",
    "bfs(graph, 'A')\n"
   ]
  },
  {
   "cell_type": "code",
   "execution_count": 29,
   "id": "b46c5655-0351-4aca-94cd-9d1617eeed10",
   "metadata": {},
   "outputs": [
    {
     "name": "stdout",
     "output_type": "stream",
     "text": [
      "Predicted value for input 6 is 12.0\n"
     ]
    }
   ],
   "source": [
    "import numpy as np\n",
    "from sklearn.linear_model import LinearRegression\n",
    "\n",
    "# Example data\n",
    "X = np.array([1, 2, 3, 4, 5]).reshape(-1, 1)  # Features need to be 2D for scikit-learn\n",
    "y = np.array([2, 4, 6, 8, 10])  # Target values\n",
    "\n",
    "# Create a linear regression model instance\n",
    "model = LinearRegression()\n",
    "\n",
    "# Fit the model to the data\n",
    "model.fit(X, y)\n",
    "\n",
    "# Predicting a new value\n",
    "x_new = np.array([[6]])  # The input must be a 2D array\n",
    "y_new = model.predict(x_new)\n",
    "\n",
    "print(f\"Predicted value for input {x_new.flatten()[0]} is {y_new[0]}\")\n"
   ]
  },
  {
   "cell_type": "code",
   "execution_count": 30,
   "id": "e2a03906-5269-4347-afcc-d2ca4150be58",
   "metadata": {},
   "outputs": [
    {
     "name": "stdout",
     "output_type": "stream",
     "text": [
      "Predicted value for input 6 is 11.731406398345296\n"
     ]
    }
   ],
   "source": [
    "import numpy as np\n",
    "from sklearn.linear_model import SGDRegressor\n",
    "\n",
    "# Example data\n",
    "X = np.array([1, 2, 3, 4, 5]).reshape(-1, 1)  # Features need to be 2D for scikit-learn\n",
    "y = np.array([2, 4, 6, 8, 10])  # Target values\n",
    "\n",
    "# Create an SGD Regressor model instance\n",
    "# Here, eta0 is the initial learning rate, and learning_rate=\"constant\" keeps it fixed through all iterations.\n",
    "model = SGDRegressor(max_iter=1000, tol=1e-3, eta0=0.01, learning_rate=\"constant\", penalty=None)\n",
    "\n",
    "# Fit the model to the data\n",
    "model.fit(X, y)\n",
    "\n",
    "# Predicting a new value\n",
    "x_new = np.array([[6]])  # The input must be a 2D array\n",
    "y_new = model.predict(x_new)\n",
    "\n",
    "print(f\"Predicted value for input {x_new.flatten()[0]} is {y_new[0]}\")\n"
   ]
  },
  {
   "cell_type": "code",
   "execution_count": 31,
   "id": "e17563d5-f128-43b4-ad39-80304774cf7a",
   "metadata": {},
   "outputs": [
    {
     "name": "stdout",
     "output_type": "stream",
     "text": [
      "Substitution: {'X': 'c'}\n"
     ]
    }
   ],
   "source": [
    "def unify(x, y, subst=None):\n",
    "    \"\"\" Unify expressions x and y with the given substitution subst. \"\"\"\n",
    "    if subst is None:\n",
    "        subst = {}\n",
    "    \n",
    "    # If substitution failed previously, return failure\n",
    "    if subst is False:\n",
    "        return False\n",
    "    \n",
    "    # If x and y are the same, return the current substitution\n",
    "    elif x == y:\n",
    "        return subst\n",
    "    \n",
    "    # If x is a variable, unify_var it with y\n",
    "    elif is_variable(x):\n",
    "        return unify_var(x, y, subst)\n",
    "    \n",
    "    # If y is a variable, unify_var it with x\n",
    "    elif is_variable(y):\n",
    "        return unify_var(y, x, subst)\n",
    "    \n",
    "    # If x and y are lists (compound terms), unify their elements\n",
    "    elif isinstance(x, list) and isinstance(y, list) and len(x) == len(y):\n",
    "        return unify(x[1:], y[1:], unify(x[0], y[0], subst))\n",
    "    \n",
    "    # If none of the above, return failure\n",
    "    else:\n",
    "        return False\n",
    "\n",
    "def unify_var(var, x, subst):\n",
    "    \"\"\" Unify variable var with x under substitution subst. \"\"\"\n",
    "    # If the variable already has a substitution\n",
    "    if var in subst:\n",
    "        return unify(subst[var], x, subst)\n",
    "    \n",
    "    # If x is a variable and has a substitution\n",
    "    elif x in subst:\n",
    "        return unify(var, subst[x], subst)\n",
    "    \n",
    "    # Avoid infinite loop if var == x\n",
    "    elif occur_check(var, x, subst):\n",
    "        return False\n",
    "    \n",
    "    # Otherwise, assign x to var\n",
    "    else:\n",
    "        subst[var] = x\n",
    "        return subst\n",
    "\n",
    "def is_variable(x):\n",
    "    \"\"\" Check if x is a variable (assuming variables are strings starting with a capital letter). \"\"\"\n",
    "    return isinstance(x, str) and x.isalpha() and x[0].isupper()\n",
    "\n",
    "def occur_check(var, x, subst):\n",
    "    \"\"\" Check if var occurs anywhere in x. \"\"\"\n",
    "    if var == x:\n",
    "        return True\n",
    "    elif isinstance(x, str) and x in subst:\n",
    "        return occur_check(var, subst[x], subst)\n",
    "    elif isinstance(x, list):\n",
    "        return any(occur_check(var, element, subst) for element in x)\n",
    "    return False\n",
    "\n",
    "# Example usage:\n",
    "x = ['X', 'a', 'b']\n",
    "y = ['c', 'a', 'b']\n",
    "substitution = unify(x, y)\n",
    "print(\"Substitution:\", substitution)\n"
   ]
  },
  {
   "cell_type": "code",
   "execution_count": null,
   "id": "6250267d-0559-48ef-b3ae-a7091b1686c4",
   "metadata": {},
   "outputs": [],
   "source": []
  },
  {
   "cell_type": "code",
   "execution_count": null,
   "id": "99a8aca4-7834-43c2-b462-c8144741ab9f",
   "metadata": {},
   "outputs": [],
   "source": [
    "\n"
   ]
  },
  {
   "cell_type": "code",
   "execution_count": null,
   "id": "2314ea81-4005-48fb-8b1a-81aec5b0fbdd",
   "metadata": {},
   "outputs": [],
   "source": []
  }
 ],
 "metadata": {
  "kernelspec": {
   "display_name": "Python 3 (ipykernel)",
   "language": "python",
   "name": "python3"
  },
  "language_info": {
   "codemirror_mode": {
    "name": "ipython",
    "version": 3
   },
   "file_extension": ".py",
   "mimetype": "text/x-python",
   "name": "python",
   "nbconvert_exporter": "python",
   "pygments_lexer": "ipython3",
   "version": "3.9.12"
  }
 },
 "nbformat": 4,
 "nbformat_minor": 5
}
